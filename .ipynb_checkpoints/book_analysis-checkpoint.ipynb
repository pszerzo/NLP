{
 "cells": [
  {
   "cell_type": "markdown",
   "id": "41f417df-4297-4461-837c-2881c9ed690b",
   "metadata": {},
   "source": [
    "# Load book"
   ]
  },
  {
   "cell_type": "code",
   "execution_count": 1,
   "id": "dba51b2c-1daf-4428-b9ec-cad7d2d89c40",
   "metadata": {},
   "outputs": [],
   "source": [
    "with open(\"miracle_in_the_andes.txt\") as file:\n",
    "    book = file.read()"
   ]
  },
  {
   "cell_type": "code",
   "execution_count": 2,
   "id": "9a1766ba-33fc-4139-b265-ca94ab4a5813",
   "metadata": {},
   "outputs": [
    {
     "data": {
      "text/plain": [
       "str"
      ]
     },
     "execution_count": 2,
     "metadata": {},
     "output_type": "execute_result"
    }
   ],
   "source": [
    "type(book)"
   ]
  },
  {
   "cell_type": "markdown",
   "id": "b87fd75b-4eff-4529-b5d4-af16203a0f3f",
   "metadata": {},
   "source": [
    "# How many chapters?"
   ]
  },
  {
   "cell_type": "markdown",
   "id": "e76e75e4-64a0-4012-9c27-f1e7a04fe082",
   "metadata": {},
   "source": [
    "## String"
   ]
  },
  {
   "cell_type": "code",
   "execution_count": 3,
   "id": "3c70f56e-4ec7-47ba-a5f6-86190f215619",
   "metadata": {},
   "outputs": [
    {
     "data": {
      "text/plain": [
       "11"
      ]
     },
     "execution_count": 3,
     "metadata": {},
     "output_type": "execute_result"
    }
   ],
   "source": [
    "book.count(\"Chapter\")"
   ]
  },
  {
   "cell_type": "markdown",
   "id": "7f08a20f-bc8f-41fa-b3ad-271ca812657c",
   "metadata": {},
   "source": [
    "## With regex"
   ]
  },
  {
   "cell_type": "code",
   "execution_count": 4,
   "id": "62c1fef5-5f72-472b-91e2-feff608e2357",
   "metadata": {},
   "outputs": [],
   "source": [
    "import re"
   ]
  },
  {
   "cell_type": "code",
   "execution_count": 5,
   "id": "8bb38c1b-e201-4a22-8c89-a5277b57ab68",
   "metadata": {},
   "outputs": [],
   "source": [
    "pattern = re.compile(\"Chapter [0-9]*\")"
   ]
  },
  {
   "cell_type": "code",
   "execution_count": 6,
   "id": "0ff55615-88e3-48c3-8dec-0d43b50d58be",
   "metadata": {},
   "outputs": [
    {
     "name": "stdout",
     "output_type": "stream",
     "text": [
      "re.compile('Chapter [0-9]*')\n"
     ]
    }
   ],
   "source": [
    "print(pattern)"
   ]
  },
  {
   "cell_type": "code",
   "execution_count": 7,
   "id": "935a557a-4966-426b-890d-c913924cb6bb",
   "metadata": {},
   "outputs": [],
   "source": [
    "findings = re.findall(pattern, book)"
   ]
  },
  {
   "cell_type": "code",
   "execution_count": 8,
   "id": "c5c9c6e3-6447-4f99-9d83-ba7e90f31085",
   "metadata": {},
   "outputs": [
    {
     "data": {
      "text/plain": [
       "10"
      ]
     },
     "execution_count": 8,
     "metadata": {},
     "output_type": "execute_result"
    }
   ],
   "source": [
    "len(findings)"
   ]
  },
  {
   "cell_type": "markdown",
   "id": "86888122-4622-4fb8-b0ba-62708ba35383",
   "metadata": {},
   "source": [
    "# Count sentences where love is used"
   ]
  },
  {
   "cell_type": "code",
   "execution_count": 9,
   "id": "c4270944-8fd8-43d7-93da-5e3867a94112",
   "metadata": {},
   "outputs": [
    {
     "data": {
      "text/plain": [
       "114"
      ]
     },
     "execution_count": 9,
     "metadata": {},
     "output_type": "execute_result"
    }
   ],
   "source": [
    "book.count(\"love\")"
   ]
  },
  {
   "cell_type": "code",
   "execution_count": 10,
   "id": "c1ad426b-2394-4b03-83ad-128ddc04a225",
   "metadata": {},
   "outputs": [
    {
     "data": {
      "text/plain": [
       "66"
      ]
     },
     "execution_count": 10,
     "metadata": {},
     "output_type": "execute_result"
    }
   ],
   "source": [
    "#my first try\n",
    "pattern2 = re.compile(\".*love*.\")\n",
    "findings2 = re.findall(pattern2, book)\n",
    "len(findings2)\n",
    "#print(findings)"
   ]
  },
  {
   "cell_type": "code",
   "execution_count": 11,
   "id": "fa5935a3-e6e6-4cf7-ab91-5ecbd8dd6126",
   "metadata": {},
   "outputs": [
    {
     "data": {
      "text/plain": [
       "67"
      ]
     },
     "execution_count": 11,
     "metadata": {},
     "output_type": "execute_result"
    }
   ],
   "source": [
    "pattern3 = re.compile(\"[A-Z]{1}[^.]*[^a-zA-Z]+love[^a-zA-Z]+[^.]*.\")\n",
    "#[a-zA-Z] = return any big or small letter\n",
    "#[a-zA-Z]* = return any big or small letter ZERO OR MORE TIME\n",
    "#[a-zA-Z]+ = return any big or small letter ONE OR MORE TIME\n",
    "#[a-zA-Z ]* = return any big or small letter zero or more time WITH SPACES\n",
    "#[a-zA-Z ,]* = return any big or small letter zero or more time with spaces WITH COMMAS\n",
    "#[^.] = return everything which is not a period \".\"\n",
    "#[^.]*. = return everything which is not a period \".\" AND RETURN ALSO A PERIOD.\n",
    "#love[^a-zA-Z] = return \"love\" and any kind of caracter including space\n",
    "#[^a-zA-Z]+love = return \"love\" and any kind of caracter including space behind \"love\"\n",
    "# love = return \"love\" and any kind of caracter including space behind \"love\" (same as above)\n",
    "#[A-Z]{1} = one time first letter is a big letter\n",
    "\n",
    "findings3 = re.findall(pattern3, book)\n",
    "len(findings3)"
   ]
  },
  {
   "cell_type": "code",
   "execution_count": 12,
   "id": "323c0415-73aa-4348-b9e8-2bde3948daf8",
   "metadata": {},
   "outputs": [],
   "source": [
    "#print(findings3)"
   ]
  },
  {
   "cell_type": "markdown",
   "id": "f99ae2cc-3919-4d40-867f-a1e4b48487c9",
   "metadata": {},
   "source": [
    "# Most common words"
   ]
  },
  {
   "cell_type": "code",
   "execution_count": 13,
   "id": "88ec53bf-e218-4103-b6df-da427d5c11ed",
   "metadata": {},
   "outputs": [
    {
     "data": {
      "text/plain": [
       "86798"
      ]
     },
     "execution_count": 13,
     "metadata": {},
     "output_type": "execute_result"
    }
   ],
   "source": [
    "pattern4 = re.compile(\"[a-zA-Z]+\")\n",
    "findings = re.findall(pattern4, book.lower()) #prevent different count for starting big or small letter\n",
    "len(findings)"
   ]
  },
  {
   "cell_type": "code",
   "execution_count": 14,
   "id": "1e199413-1cfc-4860-9e5a-9e6d72a3d839",
   "metadata": {},
   "outputs": [],
   "source": [
    "d = {}\n",
    "for word in findings:\n",
    "    if word in d.keys():\n",
    "        d[word] += 1\n",
    "    else: d[word] = 1"
   ]
  },
  {
   "cell_type": "code",
   "execution_count": 15,
   "id": "f00fc0aa-e7a2-40d8-9c2f-0f9e21de39e2",
   "metadata": {},
   "outputs": [
    {
     "data": {
      "text/plain": [
       "[(5346, 'the'),\n",
       " (2795, 'and'),\n",
       " (2729, 'i'),\n",
       " (2400, 'to'),\n",
       " (2060, 'of'),\n",
       " (1566, 'a'),\n",
       " (1430, 'was'),\n",
       " (1419, 'in'),\n",
       " (1226, 'we'),\n",
       " (1169, 'my')]"
      ]
     },
     "execution_count": 15,
     "metadata": {},
     "output_type": "execute_result"
    }
   ],
   "source": [
    "d_list = [(value, key) for (key, value) in d.items()]\n",
    "sorted(d_list, reverse = True)[:10]"
   ]
  },
  {
   "cell_type": "markdown",
   "id": "515b4b06-6e9e-4c28-851f-9df5e2e7b1f1",
   "metadata": {},
   "source": [
    "# Extract paragraphs"
   ]
  },
  {
   "cell_type": "code",
   "execution_count": 16,
   "id": "34244382-75cb-426c-8544-4ed168790a87",
   "metadata": {},
   "outputs": [
    {
     "name": "stdout",
     "output_type": "stream",
     "text": [
      "60\n",
      "['To me, this is the essence of rugby. No other sport gives you such an intense sense of selflessness and unified purpose. I believe this is why rugby players all over the world feel such a passion for the game and such a feeling of brotherhood. As a young man, of course, I could not put these things into words, but I knew, and my teammates knew, that there was something special about the game, and under the guidance of the Christian Brothers we developed a passionate love for the sport that shaped our friendships and our lives. For eight years we played our hearts out for the Christian Brothers—a brotherhood of young boys with Latin names, playing a game with deep Anglo roots under Uruguay’s sunny skies, and proudly wearing the bright green shamrock on our uniforms. The game became so much a part of our lives, in fact, that when we graduated from Stella Maris at the age of sixteen, many of us could not bear the thought that our playing days were over. Our salvation came in the form of the Old Christians Club, a private rugby team formed in 1965 by previous alumni of the Stella Maris rugby program to give Stella Maris ruggers a chance to continue playing the game after our school years ended.', 'There were others—Alexis Hounie, Gastón Costemalle, Daniel Shaw—all of them great players and all of them my friends. But my oldest friend was Guido Magri. He and I had met on my first day at the Stella Maris School—I was eight years old and Guido was one year older—and we had been inseparable ever since. Guido and I grew up together, playing soccer and sharing a love of motorcycles, cars, and auto racing. When I was fifteen we both had mopeds that we had modified in silly ways—removing the mufflers, turn signals, and fenders—and we would ride them to Las Delicias, a famous ice cream parlor in our neighborhood, where we would drool over the girls from the nearby School Sagrado Corazón, hoping to impress them with our souped-up scooters. Guido was a dependable friend, with a good sense of humor and an easy laugh. He was also an outstanding scrum half, as quick and smart as a fox, with good hands and great courage. Under the guidance of the Christian Brothers, both of us grew to love the game of rugby with a consuming passion. As seasons passed we worked hard to improve our skills, and by the time I was fifteen we had each earned a spot on the Stella Maris First XV, the team’s starting lineup. After graduation, both of us went on to join the Old Christians and spent several happy seasons pursuing the high-octane social life of young rugby players. That rowdiness came to an abrupt end for Guido in 1969, when he met and fell in love with the beautiful daughter of a Chilean diplomat. She was now his fiancée, and he was happy to behave himself for her sake.']\n"
     ]
    }
   ],
   "source": [
    "patter_par = re.compile(\"[^\\n]+love[^\\n]+\")\n",
    "findings = re.findall(patter_par, book)\n",
    "print(len(findings))\n",
    "print(findings[:2])"
   ]
  },
  {
   "cell_type": "markdown",
   "id": "fd026d46-f549-4479-82f7-b8916f26d0ff",
   "metadata": {},
   "source": [
    "# Extract chapter titles"
   ]
  },
  {
   "cell_type": "code",
   "execution_count": 17,
   "id": "b13999f7-a1ed-482c-aefa-d463d8f43404",
   "metadata": {},
   "outputs": [
    {
     "name": "stdout",
     "output_type": "stream",
     "text": [
      "10\n",
      "['Before', 'Everything Precious', 'A Promise', 'Breathe Once More', 'Abandoned', 'Tomb', 'East', 'The Opposite of Death', 'I See a Man', 'After']\n"
     ]
    }
   ],
   "source": [
    "patter_tit = re.compile(\"[a-zA-Z ,]+[\\n]+\")\n",
    "findings = re.findall(patter_tit, book)\n",
    "findings = [item.strip(\"\\n\") for item in findings]\n",
    "print(len(findings))\n",
    "print(findings)"
   ]
  },
  {
   "cell_type": "code",
   "execution_count": 18,
   "id": "10e013f6-7d62-4c35-9505-1b3f3a4862ed",
   "metadata": {},
   "outputs": [
    {
     "data": {
      "text/plain": [
       "['Before',\n",
       " 'Everything Precious',\n",
       " 'A Promise',\n",
       " 'Breathe Once More',\n",
       " 'Abandoned',\n",
       " 'Tomb',\n",
       " 'East',\n",
       " 'The Opposite of Death',\n",
       " 'I See a Man',\n",
       " 'After']"
      ]
     },
     "execution_count": 18,
     "metadata": {},
     "output_type": "execute_result"
    }
   ],
   "source": [
    "pattern = re.compile(\"([a-zA-Z ,]+)[\\n]\")\n",
    "findings = re.findall(pattern, book)\n",
    "findings"
   ]
  },
  {
   "cell_type": "markdown",
   "id": "737959a0-12a8-42b3-842c-133e74f8866b",
   "metadata": {},
   "source": [
    "# Function that finds the occurence of any word"
   ]
  },
  {
   "cell_type": "code",
   "execution_count": 19,
   "id": "6b24d2e0-1346-47f6-ac0c-3b307144366a",
   "metadata": {},
   "outputs": [],
   "source": [
    "def finder(word):\n",
    "    pattern = re.compile(\"[a-z]+\")\n",
    "    findings = re.findall(pattern, book.lower())\n",
    "    d = {}\n",
    "    for i in findings:\n",
    "        if i in d.keys():\n",
    "            d[i] += 1\n",
    "        else: d[i] = 1\n",
    "    try:\n",
    "        return d[word]\n",
    "    except:\n",
    "        return (f\"No such word as '{word}'\")"
   ]
  },
  {
   "cell_type": "code",
   "execution_count": 20,
   "id": "20f43d9f-57af-4096-a065-db62ef781133",
   "metadata": {},
   "outputs": [
    {
     "data": {
      "text/plain": [
       "83"
      ]
     },
     "execution_count": 20,
     "metadata": {},
     "output_type": "execute_result"
    }
   ],
   "source": [
    "finder(\"love\")"
   ]
  },
  {
   "cell_type": "code",
   "execution_count": 21,
   "id": "793f98fb-ab87-4d8d-b7f2-f189c48b865c",
   "metadata": {},
   "outputs": [
    {
     "data": {
      "text/plain": [
       "\"No such word as 'hate'\""
      ]
     },
     "execution_count": 21,
     "metadata": {},
     "output_type": "execute_result"
    }
   ],
   "source": [
    "finder(\"hate\")"
   ]
  },
  {
   "cell_type": "code",
   "execution_count": 22,
   "id": "5290e067-1796-495a-b34e-1599eb075a25",
   "metadata": {},
   "outputs": [
    {
     "name": "stdout",
     "output_type": "stream",
     "text": [
      "Requirement already satisfied: nltk in ./venv/lib/python3.10/site-packages (3.9.1)\n",
      "Requirement already satisfied: joblib in ./venv/lib/python3.10/site-packages (from nltk) (1.4.2)\n",
      "Requirement already satisfied: click in ./venv/lib/python3.10/site-packages (from nltk) (8.1.8)\n",
      "Requirement already satisfied: regex>=2021.8.3 in ./venv/lib/python3.10/site-packages (from nltk) (2024.11.6)\n",
      "Requirement already satisfied: tqdm in ./venv/lib/python3.10/site-packages (from nltk) (4.67.1)\n",
      "\u001b[33mWARNING: You are using pip version 21.3.1; however, version 24.3.1 is available.\n",
      "You should consider upgrading via the '/Users/Surface/PycharmProjects/NLP/venv/bin/python -m pip install --upgrade pip' command.\u001b[0m\n"
     ]
    },
    {
     "data": {
      "text/plain": [
       "['/Library/Frameworks/Python.framework/Versions/3.10/lib/python310.zip',\n",
       " '/Library/Frameworks/Python.framework/Versions/3.10/lib/python3.10',\n",
       " '/Library/Frameworks/Python.framework/Versions/3.10/lib/python3.10/lib-dynload',\n",
       " '',\n",
       " '/Library/Frameworks/Python.framework/Versions/3.10/lib/python3.10/site-packages']"
      ]
     },
     "execution_count": 22,
     "metadata": {},
     "output_type": "execute_result"
    }
   ],
   "source": [
    "!pip3.10 install nltk\n",
    "import sys\n",
    "sys.path"
   ]
  },
  {
   "cell_type": "code",
   "execution_count": 23,
   "id": "16fb841b-3c6f-424c-8cbe-b179de02efaa",
   "metadata": {},
   "outputs": [
    {
     "ename": "ModuleNotFoundError",
     "evalue": "No module named 'nltk'",
     "output_type": "error",
     "traceback": [
      "\u001b[0;31m---------------------------------------------------------------------------\u001b[0m",
      "\u001b[0;31mModuleNotFoundError\u001b[0m                       Traceback (most recent call last)",
      "Cell \u001b[0;32mIn[23], line 1\u001b[0m\n\u001b[0;32m----> 1\u001b[0m \u001b[38;5;28;01mimport\u001b[39;00m \u001b[38;5;21;01mnltk\u001b[39;00m\n",
      "\u001b[0;31mModuleNotFoundError\u001b[0m: No module named 'nltk'"
     ]
    }
   ],
   "source": [
    "import nltk"
   ]
  },
  {
   "cell_type": "code",
   "execution_count": null,
   "id": "60d5f5f0-1180-4bd5-9093-36d42a7ce750",
   "metadata": {},
   "outputs": [],
   "source": [
    "from nltk.corpus import stopwords\n",
    "enlish_stopwords(\"english\")\n",
    "english_stopwords"
   ]
  },
  {
   "cell_type": "code",
   "execution_count": null,
   "id": "2107ae02-3414-4220-87a5-4a1ebec4f560",
   "metadata": {},
   "outputs": [],
   "source": []
  },
  {
   "cell_type": "code",
   "execution_count": null,
   "id": "7ae79777-ab36-47e8-87c3-df28de5f7ded",
   "metadata": {},
   "outputs": [],
   "source": []
  },
  {
   "cell_type": "code",
   "execution_count": null,
   "id": "c6cf7845-4d14-4d2f-a81d-a1f2afbbb96a",
   "metadata": {},
   "outputs": [],
   "source": []
  },
  {
   "cell_type": "code",
   "execution_count": null,
   "id": "ec50c051-ed6a-4927-bb91-f844ef0e23a9",
   "metadata": {},
   "outputs": [],
   "source": []
  }
 ],
 "metadata": {
  "kernelspec": {
   "display_name": "Python 3 (ipykernel)",
   "language": "python",
   "name": "python3"
  },
  "language_info": {
   "codemirror_mode": {
    "name": "ipython",
    "version": 3
   },
   "file_extension": ".py",
   "mimetype": "text/x-python",
   "name": "python",
   "nbconvert_exporter": "python",
   "pygments_lexer": "ipython3",
   "version": "3.10.6"
  }
 },
 "nbformat": 4,
 "nbformat_minor": 5
}
