{
 "cells": [
  {
   "cell_type": "markdown",
   "id": "41f417df-4297-4461-837c-2881c9ed690b",
   "metadata": {},
   "source": [
    "# Load book"
   ]
  },
  {
   "cell_type": "code",
   "execution_count": 1,
   "id": "dba51b2c-1daf-4428-b9ec-cad7d2d89c40",
   "metadata": {},
   "outputs": [],
   "source": [
    "with open(\"miracle_in_the_andes.txt\") as file:\n",
    "    book = file.read()"
   ]
  },
  {
   "cell_type": "code",
   "execution_count": 2,
   "id": "9a1766ba-33fc-4139-b265-ca94ab4a5813",
   "metadata": {},
   "outputs": [
    {
     "data": {
      "text/plain": [
       "str"
      ]
     },
     "execution_count": 2,
     "metadata": {},
     "output_type": "execute_result"
    }
   ],
   "source": [
    "type(book)"
   ]
  },
  {
   "cell_type": "markdown",
   "id": "b87fd75b-4eff-4529-b5d4-af16203a0f3f",
   "metadata": {},
   "source": [
    "# How many chapters?"
   ]
  },
  {
   "cell_type": "markdown",
   "id": "e76e75e4-64a0-4012-9c27-f1e7a04fe082",
   "metadata": {},
   "source": [
    "## String"
   ]
  },
  {
   "cell_type": "code",
   "execution_count": 3,
   "id": "3c70f56e-4ec7-47ba-a5f6-86190f215619",
   "metadata": {},
   "outputs": [
    {
     "data": {
      "text/plain": [
       "11"
      ]
     },
     "execution_count": 3,
     "metadata": {},
     "output_type": "execute_result"
    }
   ],
   "source": [
    "book.count(\"Chapter\")"
   ]
  },
  {
   "cell_type": "markdown",
   "id": "7f08a20f-bc8f-41fa-b3ad-271ca812657c",
   "metadata": {},
   "source": [
    "## With regex"
   ]
  },
  {
   "cell_type": "code",
   "execution_count": 4,
   "id": "62c1fef5-5f72-472b-91e2-feff608e2357",
   "metadata": {},
   "outputs": [],
   "source": [
    "import re"
   ]
  },
  {
   "cell_type": "code",
   "execution_count": 5,
   "id": "8bb38c1b-e201-4a22-8c89-a5277b57ab68",
   "metadata": {},
   "outputs": [],
   "source": [
    "pattern = re.compile(\"Chapter [0-9]*\")"
   ]
  },
  {
   "cell_type": "code",
   "execution_count": 6,
   "id": "0ff55615-88e3-48c3-8dec-0d43b50d58be",
   "metadata": {},
   "outputs": [
    {
     "name": "stdout",
     "output_type": "stream",
     "text": [
      "re.compile('Chapter [0-9]*')\n"
     ]
    }
   ],
   "source": [
    "print(pattern)"
   ]
  },
  {
   "cell_type": "code",
   "execution_count": 7,
   "id": "935a557a-4966-426b-890d-c913924cb6bb",
   "metadata": {},
   "outputs": [],
   "source": [
    "findings = re.findall(pattern, book)"
   ]
  },
  {
   "cell_type": "code",
   "execution_count": 8,
   "id": "c5c9c6e3-6447-4f99-9d83-ba7e90f31085",
   "metadata": {},
   "outputs": [
    {
     "data": {
      "text/plain": [
       "10"
      ]
     },
     "execution_count": 8,
     "metadata": {},
     "output_type": "execute_result"
    }
   ],
   "source": [
    "len(findings)"
   ]
  },
  {
   "cell_type": "markdown",
   "id": "86888122-4622-4fb8-b0ba-62708ba35383",
   "metadata": {},
   "source": [
    "# Count sentences where love is used"
   ]
  },
  {
   "cell_type": "code",
   "execution_count": 9,
   "id": "c4270944-8fd8-43d7-93da-5e3867a94112",
   "metadata": {},
   "outputs": [
    {
     "data": {
      "text/plain": [
       "114"
      ]
     },
     "execution_count": 9,
     "metadata": {},
     "output_type": "execute_result"
    }
   ],
   "source": [
    "book.count(\"love\")"
   ]
  },
  {
   "cell_type": "code",
   "execution_count": 10,
   "id": "c1ad426b-2394-4b03-83ad-128ddc04a225",
   "metadata": {},
   "outputs": [
    {
     "data": {
      "text/plain": [
       "66"
      ]
     },
     "execution_count": 10,
     "metadata": {},
     "output_type": "execute_result"
    }
   ],
   "source": [
    "#my first try\n",
    "pattern2 = re.compile(\".*love*.\")\n",
    "findings2 = re.findall(pattern2, book)\n",
    "len(findings2)\n",
    "#print(findings)"
   ]
  },
  {
   "cell_type": "code",
   "execution_count": 11,
   "id": "fa5935a3-e6e6-4cf7-ab91-5ecbd8dd6126",
   "metadata": {},
   "outputs": [
    {
     "data": {
      "text/plain": [
       "67"
      ]
     },
     "execution_count": 11,
     "metadata": {},
     "output_type": "execute_result"
    }
   ],
   "source": [
    "pattern3 = re.compile(\"[A-Z]{1}[^.]*[^a-zA-Z]+love[^a-zA-Z]+[^.]*.\")\n",
    "#[a-zA-Z] = return any big or small letter\n",
    "#[a-zA-Z]* = return any big or small letter ZERO OR MORE TIME\n",
    "#[a-zA-Z]+ = return any big or small letter ONE OR MORE TIME\n",
    "#[a-zA-Z ]* = return any big or small letter zero or more time WITH SPACES\n",
    "#[a-zA-Z ,]* = return any big or small letter zero or more time with spaces WITH COMMAS\n",
    "#[^.] = return everything which is not a period \".\"\n",
    "#[^.]*. = return everything which is not a period \".\" AND RETURN ALSO A PERIOD.\n",
    "#love[^a-zA-Z] = return \"love\" and any kind of caracter including space\n",
    "#[^a-zA-Z]+love = return \"love\" and any kind of caracter including space behind \"love\"\n",
    "# love = return \"love\" and any kind of caracter including space behind \"love\" (same as above)\n",
    "#[A-Z]{1} = one time first letter is a big letter\n",
    "\n",
    "findings3 = re.findall(pattern3, book)\n",
    "len(findings3)"
   ]
  },
  {
   "cell_type": "code",
   "execution_count": 12,
   "id": "323c0415-73aa-4348-b9e8-2bde3948daf8",
   "metadata": {},
   "outputs": [],
   "source": [
    "#print(findings3)"
   ]
  },
  {
   "cell_type": "markdown",
   "id": "f99ae2cc-3919-4d40-867f-a1e4b48487c9",
   "metadata": {},
   "source": [
    "# Most common words"
   ]
  },
  {
   "cell_type": "code",
   "execution_count": 13,
   "id": "88ec53bf-e218-4103-b6df-da427d5c11ed",
   "metadata": {},
   "outputs": [
    {
     "data": {
      "text/plain": [
       "86798"
      ]
     },
     "execution_count": 13,
     "metadata": {},
     "output_type": "execute_result"
    }
   ],
   "source": [
    "pattern4 = re.compile(\"[a-zA-Z]+\")\n",
    "findings = re.findall(pattern4, book.lower()) #prevent different count for starting big or small letter\n",
    "len(findings)"
   ]
  },
  {
   "cell_type": "code",
   "execution_count": 14,
   "id": "1e199413-1cfc-4860-9e5a-9e6d72a3d839",
   "metadata": {},
   "outputs": [],
   "source": [
    "d = {}\n",
    "for word in findings:\n",
    "    if word in d.keys():\n",
    "        d[word] += 1\n",
    "    else: d[word] = 1"
   ]
  },
  {
   "cell_type": "code",
   "execution_count": 15,
   "id": "f00fc0aa-e7a2-40d8-9c2f-0f9e21de39e2",
   "metadata": {},
   "outputs": [
    {
     "data": {
      "text/plain": [
       "[(5346, 'the'),\n",
       " (2795, 'and'),\n",
       " (2729, 'i'),\n",
       " (2400, 'to'),\n",
       " (2060, 'of'),\n",
       " (1566, 'a'),\n",
       " (1430, 'was'),\n",
       " (1419, 'in'),\n",
       " (1226, 'we'),\n",
       " (1169, 'my')]"
      ]
     },
     "execution_count": 15,
     "metadata": {},
     "output_type": "execute_result"
    }
   ],
   "source": [
    "d_list = [(value, key) for (key, value) in d.items()]\n",
    "sorted(d_list, reverse = True)[:10]"
   ]
  },
  {
   "cell_type": "markdown",
   "id": "515b4b06-6e9e-4c28-851f-9df5e2e7b1f1",
   "metadata": {},
   "source": [
    "# Extract paragraphs"
   ]
  },
  {
   "cell_type": "code",
   "execution_count": 16,
   "id": "34244382-75cb-426c-8544-4ed168790a87",
   "metadata": {},
   "outputs": [
    {
     "name": "stdout",
     "output_type": "stream",
     "text": [
      "60\n",
      "['To me, this is the essence of rugby. No other sport gives you such an intense sense of selflessness and unified purpose. I believe this is why rugby players all over the world feel such a passion for the game and such a feeling of brotherhood. As a young man, of course, I could not put these things into words, but I knew, and my teammates knew, that there was something special about the game, and under the guidance of the Christian Brothers we developed a passionate love for the sport that shaped our friendships and our lives. For eight years we played our hearts out for the Christian Brothers—a brotherhood of young boys with Latin names, playing a game with deep Anglo roots under Uruguay’s sunny skies, and proudly wearing the bright green shamrock on our uniforms. The game became so much a part of our lives, in fact, that when we graduated from Stella Maris at the age of sixteen, many of us could not bear the thought that our playing days were over. Our salvation came in the form of the Old Christians Club, a private rugby team formed in 1965 by previous alumni of the Stella Maris rugby program to give Stella Maris ruggers a chance to continue playing the game after our school years ended.', 'There were others—Alexis Hounie, Gastón Costemalle, Daniel Shaw—all of them great players and all of them my friends. But my oldest friend was Guido Magri. He and I had met on my first day at the Stella Maris School—I was eight years old and Guido was one year older—and we had been inseparable ever since. Guido and I grew up together, playing soccer and sharing a love of motorcycles, cars, and auto racing. When I was fifteen we both had mopeds that we had modified in silly ways—removing the mufflers, turn signals, and fenders—and we would ride them to Las Delicias, a famous ice cream parlor in our neighborhood, where we would drool over the girls from the nearby School Sagrado Corazón, hoping to impress them with our souped-up scooters. Guido was a dependable friend, with a good sense of humor and an easy laugh. He was also an outstanding scrum half, as quick and smart as a fox, with good hands and great courage. Under the guidance of the Christian Brothers, both of us grew to love the game of rugby with a consuming passion. As seasons passed we worked hard to improve our skills, and by the time I was fifteen we had each earned a spot on the Stella Maris First XV, the team’s starting lineup. After graduation, both of us went on to join the Old Christians and spent several happy seasons pursuing the high-octane social life of young rugby players. That rowdiness came to an abrupt end for Guido in 1969, when he met and fell in love with the beautiful daughter of a Chilean diplomat. She was now his fiancée, and he was happy to behave himself for her sake.']\n"
     ]
    }
   ],
   "source": [
    "patter_par = re.compile(\"[^\\n]+love[^\\n]+\")\n",
    "findings = re.findall(patter_par, book)\n",
    "print(len(findings))\n",
    "print(findings[:2])"
   ]
  },
  {
   "cell_type": "markdown",
   "id": "fd026d46-f549-4479-82f7-b8916f26d0ff",
   "metadata": {},
   "source": [
    "# Extract chapter titles"
   ]
  },
  {
   "cell_type": "code",
   "execution_count": 17,
   "id": "b13999f7-a1ed-482c-aefa-d463d8f43404",
   "metadata": {},
   "outputs": [
    {
     "name": "stdout",
     "output_type": "stream",
     "text": [
      "10\n",
      "['Before', 'Everything Precious', 'A Promise', 'Breathe Once More', 'Abandoned', 'Tomb', 'East', 'The Opposite of Death', 'I See a Man', 'After']\n"
     ]
    }
   ],
   "source": [
    "patter_tit = re.compile(\"[a-zA-Z ,]+[\\n]+\")\n",
    "findings = re.findall(patter_tit, book)\n",
    "findings = [item.strip(\"\\n\") for item in findings]\n",
    "print(len(findings))\n",
    "print(findings)"
   ]
  },
  {
   "cell_type": "code",
   "execution_count": 18,
   "id": "10e013f6-7d62-4c35-9505-1b3f3a4862ed",
   "metadata": {},
   "outputs": [
    {
     "data": {
      "text/plain": [
       "['Before',\n",
       " 'Everything Precious',\n",
       " 'A Promise',\n",
       " 'Breathe Once More',\n",
       " 'Abandoned',\n",
       " 'Tomb',\n",
       " 'East',\n",
       " 'The Opposite of Death',\n",
       " 'I See a Man',\n",
       " 'After']"
      ]
     },
     "execution_count": 18,
     "metadata": {},
     "output_type": "execute_result"
    }
   ],
   "source": [
    "pattern = re.compile(\"([a-zA-Z ,]+)[\\n]\")\n",
    "findings = re.findall(pattern, book)\n",
    "findings"
   ]
  },
  {
   "cell_type": "markdown",
   "id": "737959a0-12a8-42b3-842c-133e74f8866b",
   "metadata": {},
   "source": [
    "# Function that finds the occurence of any word"
   ]
  },
  {
   "cell_type": "code",
   "execution_count": 19,
   "id": "6b24d2e0-1346-47f6-ac0c-3b307144366a",
   "metadata": {},
   "outputs": [],
   "source": [
    "def finder(word):\n",
    "    pattern = re.compile(\"[a-z]+\")\n",
    "    findings = re.findall(pattern, book.lower())\n",
    "    d = {}\n",
    "    for i in findings:\n",
    "        if i in d.keys():\n",
    "            d[i] += 1\n",
    "        else: d[i] = 1\n",
    "    try:\n",
    "        return d[word]\n",
    "    except:\n",
    "        return (f\"No such word as '{word}'\")"
   ]
  },
  {
   "cell_type": "code",
   "execution_count": 20,
   "id": "20f43d9f-57af-4096-a065-db62ef781133",
   "metadata": {},
   "outputs": [
    {
     "data": {
      "text/plain": [
       "83"
      ]
     },
     "execution_count": 20,
     "metadata": {},
     "output_type": "execute_result"
    }
   ],
   "source": [
    "finder(\"love\")"
   ]
  },
  {
   "cell_type": "code",
   "execution_count": 21,
   "id": "793f98fb-ab87-4d8d-b7f2-f189c48b865c",
   "metadata": {},
   "outputs": [
    {
     "data": {
      "text/plain": [
       "\"No such word as 'hate'\""
      ]
     },
     "execution_count": 21,
     "metadata": {},
     "output_type": "execute_result"
    }
   ],
   "source": [
    "finder(\"hate\")"
   ]
  },
  {
   "cell_type": "code",
   "execution_count": 22,
   "id": "5290e067-1796-495a-b34e-1599eb075a25",
   "metadata": {},
   "outputs": [
    {
     "name": "stdout",
     "output_type": "stream",
     "text": [
      "Requirement already satisfied: nltk in ./venv/lib/python3.10/site-packages (3.9.1)\n",
      "Requirement already satisfied: click in ./venv/lib/python3.10/site-packages (from nltk) (8.1.8)\n",
      "Requirement already satisfied: joblib in ./venv/lib/python3.10/site-packages (from nltk) (1.4.2)\n",
      "Requirement already satisfied: regex>=2021.8.3 in ./venv/lib/python3.10/site-packages (from nltk) (2024.11.6)\n",
      "Requirement already satisfied: tqdm in ./venv/lib/python3.10/site-packages (from nltk) (4.67.1)\n"
     ]
    },
    {
     "data": {
      "text/plain": [
       "['/Library/Frameworks/Python.framework/Versions/3.10/lib/python310.zip',\n",
       " '/Library/Frameworks/Python.framework/Versions/3.10/lib/python3.10',\n",
       " '/Library/Frameworks/Python.framework/Versions/3.10/lib/python3.10/lib-dynload',\n",
       " '',\n",
       " '/Library/Frameworks/Python.framework/Versions/3.10/lib/python3.10/site-packages']"
      ]
     },
     "execution_count": 22,
     "metadata": {},
     "output_type": "execute_result"
    }
   ],
   "source": [
    "!pip3.10 install nltk\n",
    "import sys\n",
    "sys.path"
   ]
  },
  {
   "cell_type": "code",
   "execution_count": 23,
   "id": "60d5f5f0-1180-4bd5-9093-36d42a7ce750",
   "metadata": {},
   "outputs": [
    {
     "name": "stdout",
     "output_type": "stream",
     "text": [
      "/Library/Frameworks/Python.framework/Versions/3.10/bin/python3.10\n"
     ]
    }
   ],
   "source": [
    "import sys\n",
    "print(sys.executable)"
   ]
  },
  {
   "cell_type": "code",
   "execution_count": 24,
   "id": "16fb841b-3c6f-424c-8cbe-b179de02efaa",
   "metadata": {},
   "outputs": [],
   "source": [
    "import nltk\n",
    "#nltk.download('stopwords')"
   ]
  },
  {
   "cell_type": "code",
   "execution_count": 25,
   "id": "2107ae02-3414-4220-87a5-4a1ebec4f560",
   "metadata": {},
   "outputs": [],
   "source": [
    "from nltk.corpus import stopwords\n",
    "english_stopwords = stopwords.words(\"english\")"
   ]
  },
  {
   "cell_type": "code",
   "execution_count": 26,
   "id": "fea9a4bc-d4b9-4cde-aeee-23731aff8801",
   "metadata": {},
   "outputs": [],
   "source": [
    "#english_stopwords"
   ]
  },
  {
   "cell_type": "code",
   "execution_count": 27,
   "id": "7ae79777-ab36-47e8-87c3-df28de5f7ded",
   "metadata": {},
   "outputs": [],
   "source": [
    "filtered_words = []\n",
    "for count, word in d_list:\n",
    "    if word not in english_stopwords:\n",
    "        filtered_words.append((word, count))"
   ]
  },
  {
   "cell_type": "code",
   "execution_count": 28,
   "id": "c6cf7845-4d14-4d2f-a81d-a1f2afbbb96a",
   "metadata": {},
   "outputs": [
    {
     "data": {
      "text/plain": [
       "[('would', 575),\n",
       " ('us', 519),\n",
       " ('said', 292),\n",
       " ('roberto', 284),\n",
       " ('could', 252),\n",
       " ('one', 249),\n",
       " ('snow', 227),\n",
       " ('mountain', 183),\n",
       " ('time', 182),\n",
       " ('like', 165)]"
      ]
     },
     "execution_count": 28,
     "metadata": {},
     "output_type": "execute_result"
    }
   ],
   "source": [
    "filtered_words.sort(key=lambda x:x[1], reverse=True)\n",
    "filtered_words[:10]"
   ]
  },
  {
   "cell_type": "markdown",
   "id": "c726d58a-50cb-4156-864e-08f28d008a6b",
   "metadata": {},
   "source": [
    "# Sentiment analytics "
   ]
  },
  {
   "cell_type": "markdown",
   "id": "7c65e0e1-fbfc-4071-a078-5537c5779684",
   "metadata": {
    "scrolled": true
   },
   "source": [
    "### Test"
   ]
  },
  {
   "cell_type": "code",
   "execution_count": 29,
   "id": "406c7c2c-804e-4755-8e9b-493929191ecf",
   "metadata": {},
   "outputs": [
    {
     "name": "stderr",
     "output_type": "stream",
     "text": [
      "[nltk_data] Downloading package vader_lexicon to\n",
      "[nltk_data]     /Users/Surface/nltk_data...\n",
      "[nltk_data]   Package vader_lexicon is already up-to-date!\n"
     ]
    },
    {
     "data": {
      "text/plain": [
       "True"
      ]
     },
     "execution_count": 29,
     "metadata": {},
     "output_type": "execute_result"
    }
   ],
   "source": [
    "from nltk.sentiment import SentimentIntensityAnalyzer\n",
    "nltk.download('vader_lexicon')"
   ]
  },
  {
   "cell_type": "code",
   "execution_count": 30,
   "id": "d16b6823-6ace-443f-88cd-acdb69a75f89",
   "metadata": {},
   "outputs": [],
   "source": [
    "analyzer = SentimentIntensityAnalyzer()"
   ]
  },
  {
   "cell_type": "code",
   "execution_count": 31,
   "id": "7657cb65-018b-4a8e-813a-f7bf0dd65610",
   "metadata": {},
   "outputs": [
    {
     "data": {
      "text/plain": [
       "{'neg': 0.0, 'neu': 0.501, 'pos': 0.499, 'compound': 0.7893}"
      ]
     },
     "execution_count": 31,
     "metadata": {},
     "output_type": "execute_result"
    }
   ],
   "source": [
    "scores = analyzer.polarity_scores(\"I love alligator snapping turtle so much like nothing else\")\n",
    "scores"
   ]
  },
  {
   "cell_type": "code",
   "execution_count": 32,
   "id": "d85f3286-0457-4487-95ce-486e91e98b58",
   "metadata": {},
   "outputs": [],
   "source": [
    "if scores[\"pos\"] > 0:\n",
    "    \"positive\"\n",
    "else: \"negative\""
   ]
  },
  {
   "cell_type": "code",
   "execution_count": 33,
   "id": "b7a19e47-7faf-4b52-a17b-eab944afcde0",
   "metadata": {},
   "outputs": [
    {
     "name": "stdout",
     "output_type": "stream",
     "text": [
      "Pos\n"
     ]
    }
   ],
   "source": [
    "if scores[\"pos\"] > scores[\"neg\"]:\n",
    "    print(\"Pos\")\n",
    "else: print(\"Neg\")"
   ]
  },
  {
   "cell_type": "code",
   "execution_count": 34,
   "id": "0cf7293c-8db7-43bb-a521-21c0a9562e59",
   "metadata": {},
   "outputs": [
    {
     "data": {
      "text/plain": [
       "{'neg': 0.116, 'neu': 0.76, 'pos': 0.125, 'compound': 1.0}"
      ]
     },
     "execution_count": 34,
     "metadata": {},
     "output_type": "execute_result"
    }
   ],
   "source": [
    "analyzer.polarity_scores(book)"
   ]
  },
  {
   "cell_type": "markdown",
   "id": "c134109f-25b5-403e-a485-4dcb094b8781",
   "metadata": {},
   "source": [
    "### Chapters sentiment"
   ]
  },
  {
   "cell_type": "markdown",
   "id": "b341f489-9ed1-44d9-8d16-2708b9a2f323",
   "metadata": {},
   "source": []
  },
  {
   "cell_type": "code",
   "execution_count": 37,
   "id": "2b5a394a-af8e-4dc2-b9db-2df392d19027",
   "metadata": {},
   "outputs": [],
   "source": [
    "import re\n",
    "pattern = re.compile(\"Chapter [0-9]+\")\n",
    "chapters = re.split(pattern, book)"
   ]
  },
  {
   "cell_type": "code",
   "execution_count": 39,
   "id": "fd29275b-7e34-4c01-830e-8295aaceb18f",
   "metadata": {},
   "outputs": [],
   "source": [
    "chapters = chapters[1:]"
   ]
  },
  {
   "cell_type": "code",
   "execution_count": 41,
   "id": "e2ac1435-a136-462c-b3b6-bed5e642c1e3",
   "metadata": {},
   "outputs": [
    {
     "name": "stdout",
     "output_type": "stream",
     "text": [
      "{'neg': 0.061, 'neu': 0.779, 'pos': 0.16, 'compound': 1.0}\n",
      "{'neg': 0.12, 'neu': 0.726, 'pos': 0.154, 'compound': 0.9991}\n",
      "{'neg': 0.145, 'neu': 0.751, 'pos': 0.105, 'compound': -0.9999}\n",
      "{'neg': 0.141, 'neu': 0.721, 'pos': 0.138, 'compound': -0.9963}\n",
      "{'neg': 0.118, 'neu': 0.742, 'pos': 0.141, 'compound': 0.9997}\n",
      "{'neg': 0.124, 'neu': 0.761, 'pos': 0.115, 'compound': -0.9979}\n",
      "{'neg': 0.136, 'neu': 0.761, 'pos': 0.103, 'compound': -0.9999}\n",
      "{'neg': 0.12, 'neu': 0.786, 'pos': 0.094, 'compound': -0.9998}\n",
      "{'neg': 0.097, 'neu': 0.824, 'pos': 0.079, 'compound': -0.9996}\n",
      "{'neg': 0.086, 'neu': 0.733, 'pos': 0.181, 'compound': 1.0}\n"
     ]
    }
   ],
   "source": [
    "for chapter in chapters:\n",
    "    scores = analyzer.polarity_scores(chapter)\n",
    "    print(scores)"
   ]
  },
  {
   "cell_type": "code",
   "execution_count": null,
   "id": "a29f7ac7-daaf-4143-9e3e-dfc06718ddbb",
   "metadata": {},
   "outputs": [],
   "source": []
  },
  {
   "cell_type": "code",
   "execution_count": null,
   "id": "bdfb6837-f608-4de8-b03d-d2004f5bda14",
   "metadata": {},
   "outputs": [],
   "source": []
  },
  {
   "cell_type": "code",
   "execution_count": null,
   "id": "c500e078-596e-4147-9c1a-b5d307034ec1",
   "metadata": {},
   "outputs": [],
   "source": []
  },
  {
   "cell_type": "code",
   "execution_count": null,
   "id": "07650d37-207b-415a-bcfe-8c8b0d3cbcf5",
   "metadata": {},
   "outputs": [],
   "source": []
  },
  {
   "cell_type": "code",
   "execution_count": null,
   "id": "0b7e5dbc-e93e-469b-bc07-5ddcab3205a9",
   "metadata": {},
   "outputs": [],
   "source": []
  }
 ],
 "metadata": {
  "kernelspec": {
   "display_name": "Python 3 (ipykernel)",
   "language": "python",
   "name": "python3"
  },
  "language_info": {
   "codemirror_mode": {
    "name": "ipython",
    "version": 3
   },
   "file_extension": ".py",
   "mimetype": "text/x-python",
   "name": "python",
   "nbconvert_exporter": "python",
   "pygments_lexer": "ipython3",
   "version": "3.10.6"
  }
 },
 "nbformat": 4,
 "nbformat_minor": 5
}
